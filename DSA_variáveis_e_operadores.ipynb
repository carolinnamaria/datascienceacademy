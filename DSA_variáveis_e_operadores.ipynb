{
  "nbformat": 4,
  "nbformat_minor": 0,
  "metadata": {
    "colab": {
      "name": "DSA variáveis e operadores.ipynb",
      "provenance": [],
      "authorship_tag": "ABX9TyMQ5BgKwrpXmRkjvob0EKq3",
      "include_colab_link": true
    },
    "kernelspec": {
      "name": "python3",
      "display_name": "Python 3"
    },
    "language_info": {
      "name": "python"
    }
  },
  "cells": [
    {
      "cell_type": "markdown",
      "metadata": {
        "id": "view-in-github",
        "colab_type": "text"
      },
      "source": [
        "<a href=\"https://colab.research.google.com/github/carolinnamaria/datascienceacademy/blob/main/DSA_vari%C3%A1veis_e_operadores.ipynb\" target=\"_parent\"><img src=\"https://colab.research.google.com/assets/colab-badge.svg\" alt=\"Open In Colab\"/></a>"
      ]
    },
    {
      "cell_type": "markdown",
      "metadata": {
        "id": "4qT79lEKchs7"
      },
      "source": [
        "#Variáveis e Operadores"
      ]
    },
    {
      "cell_type": "code",
      "metadata": {
        "id": "ezHcl8eXcm8J"
      },
      "source": [
        "#Atribuindo o valor 1 à variável var_teste \n",
        "#(sem numero, sem caracteres especiais e sem espaço no nome)\n",
        "var_teste = 1"
      ],
      "execution_count": null,
      "outputs": []
    },
    {
      "cell_type": "code",
      "metadata": {
        "colab": {
          "base_uri": "https://localhost:8080/"
        },
        "id": "5mrjPVxuc1ox",
        "outputId": "cab6d109-564d-4e5f-c547-2f2afd035622"
      },
      "source": [
        "# Imprimindo o valor da variável definida\n",
        "var_teste"
      ],
      "execution_count": null,
      "outputs": [
        {
          "output_type": "execute_result",
          "data": {
            "text/plain": [
              "1"
            ]
          },
          "metadata": {
            "tags": []
          },
          "execution_count": 3
        }
      ]
    },
    {
      "cell_type": "code",
      "metadata": {
        "colab": {
          "base_uri": "https://localhost:8080/"
        },
        "id": "-eUFnpD_c_hm",
        "outputId": "29f7f0b3-621e-4efd-ad1d-358924947b0d"
      },
      "source": [
        "#Imprimindo o valor da variável definida, novamente\n",
        "print(var_teste)"
      ],
      "execution_count": null,
      "outputs": [
        {
          "output_type": "stream",
          "text": [
            "1\n"
          ],
          "name": "stdout"
        }
      ]
    },
    {
      "cell_type": "code",
      "metadata": {
        "id": "jk4YCCOQdHc_"
      },
      "source": [
        "#Não dá pra utilizar uma variável que não foi definida\n",
        "#dá mensagem de erro!\n",
        "my_var"
      ],
      "execution_count": null,
      "outputs": []
    },
    {
      "cell_type": "code",
      "metadata": {
        "id": "N07MKxbDeQ-I"
      },
      "source": [
        "var_teste = 2"
      ],
      "execution_count": null,
      "outputs": []
    },
    {
      "cell_type": "code",
      "metadata": {
        "colab": {
          "base_uri": "https://localhost:8080/"
        },
        "id": "mSGydWQbjB5W",
        "outputId": "d1ef3049-ce6e-43ac-b16f-eff854589ef6"
      },
      "source": [
        "var_teste"
      ],
      "execution_count": null,
      "outputs": [
        {
          "output_type": "execute_result",
          "data": {
            "text/plain": [
              "2"
            ]
          },
          "metadata": {
            "tags": []
          },
          "execution_count": 10
        }
      ]
    },
    {
      "cell_type": "code",
      "metadata": {
        "colab": {
          "base_uri": "https://localhost:8080/"
        },
        "id": "vB-GMpLYjDjn",
        "outputId": "c6d3b414-cb4b-4a0c-f5a9-0199c32422c7"
      },
      "source": [
        "type(var_teste)"
      ],
      "execution_count": null,
      "outputs": [
        {
          "output_type": "execute_result",
          "data": {
            "text/plain": [
              "int"
            ]
          },
          "metadata": {
            "tags": []
          },
          "execution_count": 11
        }
      ]
    },
    {
      "cell_type": "code",
      "metadata": {
        "id": "XJQYPM2zjGBF"
      },
      "source": [
        "var_teste = 9.45"
      ],
      "execution_count": null,
      "outputs": []
    },
    {
      "cell_type": "code",
      "metadata": {
        "colab": {
          "base_uri": "https://localhost:8080/"
        },
        "id": "jUSYNC_ujJLn",
        "outputId": "afb3ab47-fed2-409e-e421-4423e004ff40"
      },
      "source": [
        "var_teste"
      ],
      "execution_count": null,
      "outputs": [
        {
          "output_type": "execute_result",
          "data": {
            "text/plain": [
              "9.45"
            ]
          },
          "metadata": {
            "tags": []
          },
          "execution_count": 13
        }
      ]
    },
    {
      "cell_type": "code",
      "metadata": {
        "colab": {
          "base_uri": "https://localhost:8080/"
        },
        "id": "fhw0j2EyjKDl",
        "outputId": "d5adb55d-e1ed-4dd5-95eb-c2ec22f4bf2d"
      },
      "source": [
        "type(var_teste)"
      ],
      "execution_count": null,
      "outputs": [
        {
          "output_type": "execute_result",
          "data": {
            "text/plain": [
              "float"
            ]
          },
          "metadata": {
            "tags": []
          },
          "execution_count": 14
        }
      ]
    },
    {
      "cell_type": "code",
      "metadata": {
        "id": "Mb-tRPhujMlM"
      },
      "source": [
        "var_teste = 'sou linda'"
      ],
      "execution_count": null,
      "outputs": []
    },
    {
      "cell_type": "code",
      "metadata": {
        "colab": {
          "base_uri": "https://localhost:8080/",
          "height": 35
        },
        "id": "92ZKhCj_jQDj",
        "outputId": "1b40b19b-98d2-4984-9332-2e6a5e7abbf2"
      },
      "source": [
        "var_teste"
      ],
      "execution_count": null,
      "outputs": [
        {
          "output_type": "execute_result",
          "data": {
            "application/vnd.google.colaboratory.intrinsic+json": {
              "type": "string"
            },
            "text/plain": [
              "'sou linda'"
            ]
          },
          "metadata": {
            "tags": []
          },
          "execution_count": 16
        }
      ]
    },
    {
      "cell_type": "code",
      "metadata": {
        "colab": {
          "base_uri": "https://localhost:8080/"
        },
        "id": "GLVoJvybjRMN",
        "outputId": "d148142b-dc28-41a3-bcb0-441a998e4a33"
      },
      "source": [
        "type(var_teste)"
      ],
      "execution_count": null,
      "outputs": [
        {
          "output_type": "execute_result",
          "data": {
            "text/plain": [
              "str"
            ]
          },
          "metadata": {
            "tags": []
          },
          "execution_count": 17
        }
      ]
    },
    {
      "cell_type": "code",
      "metadata": {
        "id": "PBpGv2uRjT2L"
      },
      "source": [
        "x =1"
      ],
      "execution_count": null,
      "outputs": []
    },
    {
      "cell_type": "code",
      "metadata": {
        "colab": {
          "base_uri": "https://localhost:8080/"
        },
        "id": "_5hOKDoljVzK",
        "outputId": "12fd919b-a547-4145-8b2e-ab28a61f9112"
      },
      "source": [
        "x"
      ],
      "execution_count": null,
      "outputs": [
        {
          "output_type": "execute_result",
          "data": {
            "text/plain": [
              "1"
            ]
          },
          "metadata": {
            "tags": []
          },
          "execution_count": 20
        }
      ]
    },
    {
      "cell_type": "markdown",
      "metadata": {
        "id": "gDjSn3b2jbML"
      },
      "source": [
        "#Declaração Múltipla"
      ]
    },
    {
      "cell_type": "code",
      "metadata": {
        "id": "-UVwGz8VjWNB"
      },
      "source": [
        "#não se pode começar a variável com número, mas pode ter números nela!\n",
        "pessoa1, pessoa2, pessoa3 = 'maria', 'josé', 'tobias'"
      ],
      "execution_count": null,
      "outputs": []
    },
    {
      "cell_type": "code",
      "metadata": {
        "colab": {
          "base_uri": "https://localhost:8080/",
          "height": 35
        },
        "id": "SfWbkJGRyX7X",
        "outputId": "d53288c1-c157-47ad-e3da-cfdde4afbc5a"
      },
      "source": [
        "pessoa1"
      ],
      "execution_count": null,
      "outputs": [
        {
          "output_type": "execute_result",
          "data": {
            "application/vnd.google.colaboratory.intrinsic+json": {
              "type": "string"
            },
            "text/plain": [
              "'maria'"
            ]
          },
          "metadata": {
            "tags": []
          },
          "execution_count": 22
        }
      ]
    },
    {
      "cell_type": "code",
      "metadata": {
        "colab": {
          "base_uri": "https://localhost:8080/",
          "height": 35
        },
        "id": "adClmnEoyZlo",
        "outputId": "e7053d03-f77d-447a-fa36-da4fc9361f1a"
      },
      "source": [
        "pessoa2"
      ],
      "execution_count": null,
      "outputs": [
        {
          "output_type": "execute_result",
          "data": {
            "application/vnd.google.colaboratory.intrinsic+json": {
              "type": "string"
            },
            "text/plain": [
              "'josé'"
            ]
          },
          "metadata": {
            "tags": []
          },
          "execution_count": 23
        }
      ]
    },
    {
      "cell_type": "code",
      "metadata": {
        "colab": {
          "base_uri": "https://localhost:8080/",
          "height": 35
        },
        "id": "MUl2I6MJya14",
        "outputId": "f1348d84-82ab-4659-9c71-3ad31ef32ab5"
      },
      "source": [
        "pessoa3"
      ],
      "execution_count": null,
      "outputs": [
        {
          "output_type": "execute_result",
          "data": {
            "application/vnd.google.colaboratory.intrinsic+json": {
              "type": "string"
            },
            "text/plain": [
              "'tobias'"
            ]
          },
          "metadata": {
            "tags": []
          },
          "execution_count": 24
        }
      ]
    },
    {
      "cell_type": "code",
      "metadata": {
        "id": "uzw4xvL0ybzx"
      },
      "source": [
        "fruta1 = fruta2 = fruta3 = 'maçã'"
      ],
      "execution_count": null,
      "outputs": []
    },
    {
      "cell_type": "code",
      "metadata": {
        "colab": {
          "base_uri": "https://localhost:8080/",
          "height": 35
        },
        "id": "G7D9GQipyhJE",
        "outputId": "d7daee9d-fff5-48e9-e035-188285a02123"
      },
      "source": [
        "fruta3"
      ],
      "execution_count": null,
      "outputs": [
        {
          "output_type": "execute_result",
          "data": {
            "application/vnd.google.colaboratory.intrinsic+json": {
              "type": "string"
            },
            "text/plain": [
              "'maçã'"
            ]
          },
          "metadata": {
            "tags": []
          },
          "execution_count": 26
        }
      ]
    },
    {
      "cell_type": "code",
      "metadata": {
        "colab": {
          "base_uri": "https://localhost:8080/",
          "height": 164
        },
        "id": "rR9MM6lAyiqV",
        "outputId": "91dc9b29-1888-4691-ee4f-1fc8f09c43c9"
      },
      "source": [
        "Fruta3"
      ],
      "execution_count": null,
      "outputs": [
        {
          "output_type": "error",
          "ename": "NameError",
          "evalue": "ignored",
          "traceback": [
            "\u001b[0;31m---------------------------------------------------------------------------\u001b[0m",
            "\u001b[0;31mNameError\u001b[0m                                 Traceback (most recent call last)",
            "\u001b[0;32m<ipython-input-27-e2645d24aeef>\u001b[0m in \u001b[0;36m<module>\u001b[0;34m()\u001b[0m\n\u001b[0;32m----> 1\u001b[0;31m \u001b[0mFruta3\u001b[0m\u001b[0;34m\u001b[0m\u001b[0;34m\u001b[0m\u001b[0m\n\u001b[0m",
            "\u001b[0;31mNameError\u001b[0m: name 'Fruta3' is not defined"
          ]
        }
      ]
    },
    {
      "cell_type": "markdown",
      "metadata": {
        "id": "ccRY7I4U18ee"
      },
      "source": [
        "#Não da pra usar palavra reservada como nome de variável\n",
        "\n",
        "## Exemplo: false, class, finally, is, return, none, continue, for, lambda, try, true, def, from, nonlocal, while, and, del, global, not, with, as, elif, if, or, yield, assert, else, import, pass, break, except, in, raise"
      ]
    },
    {
      "cell_type": "code",
      "metadata": {
        "colab": {
          "base_uri": "https://localhost:8080/",
          "height": 130
        },
        "id": "tCuH18zTym7g",
        "outputId": "602202e4-d735-4ec7-9035-812436dca99d"
      },
      "source": [
        "break = 1"
      ],
      "execution_count": null,
      "outputs": [
        {
          "output_type": "error",
          "ename": "SyntaxError",
          "evalue": "ignored",
          "traceback": [
            "\u001b[0;36m  File \u001b[0;32m\"<ipython-input-30-dbb844e64c6c>\"\u001b[0;36m, line \u001b[0;32m1\u001b[0m\n\u001b[0;31m    break = 1\u001b[0m\n\u001b[0m          ^\u001b[0m\n\u001b[0;31mSyntaxError\u001b[0m\u001b[0;31m:\u001b[0m invalid syntax\n"
          ]
        }
      ]
    },
    {
      "cell_type": "markdown",
      "metadata": {
        "id": "yetMFwdX2jWI"
      },
      "source": [
        "#Variáveis atribuídas a outras variáveis e ordem dos operadores"
      ]
    },
    {
      "cell_type": "code",
      "metadata": {
        "id": "lujaHZCJ2gQr"
      },
      "source": [
        "largura = 7"
      ],
      "execution_count": null,
      "outputs": []
    },
    {
      "cell_type": "code",
      "metadata": {
        "id": "j9FW16_F2q3N"
      },
      "source": [
        "altura =2"
      ],
      "execution_count": null,
      "outputs": []
    },
    {
      "cell_type": "code",
      "metadata": {
        "id": "kyAOfhc92tDS"
      },
      "source": [
        "area = largura * altura"
      ],
      "execution_count": null,
      "outputs": []
    },
    {
      "cell_type": "code",
      "metadata": {
        "colab": {
          "base_uri": "https://localhost:8080/"
        },
        "id": "IMDO6DCJ2v0y",
        "outputId": "aae17dee-049d-48b6-f31d-fc68962c48fc"
      },
      "source": [
        "area"
      ],
      "execution_count": null,
      "outputs": [
        {
          "output_type": "execute_result",
          "data": {
            "text/plain": [
              "14"
            ]
          },
          "metadata": {
            "tags": []
          },
          "execution_count": 34
        }
      ]
    },
    {
      "cell_type": "code",
      "metadata": {
        "id": "ryhmjaye2w_f"
      },
      "source": [
        "perimetro = 2 * largura + 2* altura"
      ],
      "execution_count": null,
      "outputs": []
    },
    {
      "cell_type": "code",
      "metadata": {
        "colab": {
          "base_uri": "https://localhost:8080/"
        },
        "id": "ST3mt5id23GS",
        "outputId": "86e6d823-2962-4c73-d56d-643cd5b051ad"
      },
      "source": [
        "perimetro"
      ],
      "execution_count": null,
      "outputs": [
        {
          "output_type": "execute_result",
          "data": {
            "text/plain": [
              "18"
            ]
          },
          "metadata": {
            "tags": []
          },
          "execution_count": 36
        }
      ]
    },
    {
      "cell_type": "code",
      "metadata": {
        "id": "HpM5SIrV236L"
      },
      "source": [
        "#a ordem de operadores é influenciada pelo uso de parenteses!\n",
        "perimetro = 2*(largura+2)*altura"
      ],
      "execution_count": null,
      "outputs": []
    },
    {
      "cell_type": "code",
      "metadata": {
        "colab": {
          "base_uri": "https://localhost:8080/"
        },
        "id": "7d0MnS983Ahw",
        "outputId": "d982b037-3edd-4b87-cdaf-85f86506c731"
      },
      "source": [
        "perimetro"
      ],
      "execution_count": null,
      "outputs": [
        {
          "output_type": "execute_result",
          "data": {
            "text/plain": [
              "36"
            ]
          },
          "metadata": {
            "tags": []
          },
          "execution_count": 38
        }
      ]
    },
    {
      "cell_type": "markdown",
      "metadata": {
        "id": "eluAQ1Ks3bWu"
      },
      "source": [
        "#Operação com variáveis"
      ]
    },
    {
      "cell_type": "code",
      "metadata": {
        "id": "m1WgKQ9R3BTg"
      },
      "source": [
        "idade1, idade2, idade3 = 15, 10, 20"
      ],
      "execution_count": null,
      "outputs": []
    },
    {
      "cell_type": "code",
      "metadata": {
        "colab": {
          "base_uri": "https://localhost:8080/"
        },
        "id": "DrsYGAW03n9R",
        "outputId": "f97481d4-38a1-4143-8f17-ef76d0c66a00"
      },
      "source": [
        "idade1"
      ],
      "execution_count": null,
      "outputs": [
        {
          "output_type": "execute_result",
          "data": {
            "text/plain": [
              "15"
            ]
          },
          "metadata": {
            "tags": []
          },
          "execution_count": 40
        }
      ]
    },
    {
      "cell_type": "code",
      "metadata": {
        "colab": {
          "base_uri": "https://localhost:8080/"
        },
        "id": "ba14F3RX3o9L",
        "outputId": "1eb3a425-3ec4-4ccd-a381-bdb0d4da5ae5"
      },
      "source": [
        "idade1+idade3"
      ],
      "execution_count": null,
      "outputs": [
        {
          "output_type": "execute_result",
          "data": {
            "text/plain": [
              "35"
            ]
          },
          "metadata": {
            "tags": []
          },
          "execution_count": 41
        }
      ]
    },
    {
      "cell_type": "code",
      "metadata": {
        "colab": {
          "base_uri": "https://localhost:8080/"
        },
        "id": "epMHMo6X3q66",
        "outputId": "820bc77a-300a-47c5-855d-d3d8bc5bee14"
      },
      "source": [
        "idade2-idade1"
      ],
      "execution_count": null,
      "outputs": [
        {
          "output_type": "execute_result",
          "data": {
            "text/plain": [
              "-5"
            ]
          },
          "metadata": {
            "tags": []
          },
          "execution_count": 42
        }
      ]
    },
    {
      "cell_type": "code",
      "metadata": {
        "colab": {
          "base_uri": "https://localhost:8080/"
        },
        "id": "pJiLmkLQ3tc1",
        "outputId": "3ac6b866-9b21-4b36-91b5-c0a21684e76f"
      },
      "source": [
        "idade1 % idade2"
      ],
      "execution_count": null,
      "outputs": [
        {
          "output_type": "execute_result",
          "data": {
            "text/plain": [
              "5"
            ]
          },
          "metadata": {
            "tags": []
          },
          "execution_count": 44
        }
      ]
    },
    {
      "cell_type": "markdown",
      "metadata": {
        "id": "LIpJmy5932Pd"
      },
      "source": [
        "#Concatenação de variáveis"
      ]
    },
    {
      "cell_type": "code",
      "metadata": {
        "id": "D8QMn7M83wAr"
      },
      "source": [
        "nome = 'Carol'"
      ],
      "execution_count": null,
      "outputs": []
    },
    {
      "cell_type": "code",
      "metadata": {
        "id": "lEZplIsa3_p2"
      },
      "source": [
        "sobrenome = 'Maria'"
      ],
      "execution_count": null,
      "outputs": []
    },
    {
      "cell_type": "code",
      "metadata": {
        "colab": {
          "base_uri": "https://localhost:8080/",
          "height": 35
        },
        "id": "fffQxqUy4Bf0",
        "outputId": "081f8438-3733-4a82-bddd-494a9ff68431"
      },
      "source": [
        "nome + sobrenome"
      ],
      "execution_count": null,
      "outputs": [
        {
          "output_type": "execute_result",
          "data": {
            "application/vnd.google.colaboratory.intrinsic+json": {
              "type": "string"
            },
            "text/plain": [
              "'CarolMaria'"
            ]
          },
          "metadata": {
            "tags": []
          },
          "execution_count": 47
        }
      ]
    },
    {
      "cell_type": "code",
      "metadata": {
        "colab": {
          "base_uri": "https://localhost:8080/",
          "height": 35
        },
        "id": "k8gj-sOD4FsX",
        "outputId": "05354605-048e-4b37-cc60-382bc42853e5"
      },
      "source": [
        "nome + '' + sobrenome"
      ],
      "execution_count": null,
      "outputs": [
        {
          "output_type": "execute_result",
          "data": {
            "application/vnd.google.colaboratory.intrinsic+json": {
              "type": "string"
            },
            "text/plain": [
              "'CarolMaria'"
            ]
          },
          "metadata": {
            "tags": []
          },
          "execution_count": 48
        }
      ]
    },
    {
      "cell_type": "code",
      "metadata": {
        "id": "akclp7EK4ILN"
      },
      "source": [
        "fullname = nome + ' '+ sobrenome"
      ],
      "execution_count": null,
      "outputs": []
    },
    {
      "cell_type": "code",
      "metadata": {
        "id": "YdDo4UDK4PCe",
        "outputId": "12c7a99c-5e10-4b48-d0ef-edeaf78454df",
        "colab": {
          "base_uri": "https://localhost:8080/",
          "height": 35
        }
      },
      "source": [
        "fullname"
      ],
      "execution_count": null,
      "outputs": [
        {
          "output_type": "execute_result",
          "data": {
            "application/vnd.google.colaboratory.intrinsic+json": {
              "type": "string"
            },
            "text/plain": [
              "'Carol Maria'"
            ]
          },
          "metadata": {
            "tags": []
          },
          "execution_count": 50
        }
      ]
    },
    {
      "cell_type": "code",
      "metadata": {
        "id": "6T00ym_B4P54"
      },
      "source": [
        ""
      ],
      "execution_count": null,
      "outputs": []
    }
  ]
}