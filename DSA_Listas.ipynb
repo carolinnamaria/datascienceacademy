{
  "nbformat": 4,
  "nbformat_minor": 0,
  "metadata": {
    "colab": {
      "name": "DSA Listas.ipynb",
      "provenance": [],
      "collapsed_sections": [
        "lNWjP46nTcDb",
        "EB2M9D9DOfyb",
        "orq2fcxGSDny",
        "cU40NFleSede",
        "YjDZoLpZTHnS"
      ],
      "authorship_tag": "ABX9TyMxc0GyE0VMLtGHkUcFO8fm",
      "include_colab_link": true
    },
    "kernelspec": {
      "name": "python3",
      "display_name": "Python 3"
    },
    "language_info": {
      "name": "python"
    }
  },
  "cells": [
    {
      "cell_type": "markdown",
      "metadata": {
        "id": "view-in-github",
        "colab_type": "text"
      },
      "source": [
        "<a href=\"https://colab.research.google.com/github/carolinnamaria/datascienceacademy/blob/main/DSA_Listas.ipynb\" target=\"_parent\"><img src=\"https://colab.research.google.com/assets/colab-badge.svg\" alt=\"Open In Colab\"/></a>"
      ]
    },
    {
      "cell_type": "markdown",
      "metadata": {
        "id": "lNWjP46nTcDb"
      },
      "source": [
        "#DSA - listas\n",
        "consideradas uma visão geral de uma sequência em Python"
      ]
    },
    {
      "cell_type": "code",
      "metadata": {
        "id": "tS9Nh499TN_U"
      },
      "source": [
        "#Criando uma lista de única string\n",
        "listadomercado = ['ovos, pão, banana, batata']"
      ],
      "execution_count": null,
      "outputs": []
    },
    {
      "cell_type": "code",
      "metadata": {
        "colab": {
          "base_uri": "https://localhost:8080/"
        },
        "id": "hJtLnjqOTd4s",
        "outputId": "8fad85fb-b55e-4c43-eab3-6b5434957bdb"
      },
      "source": [
        "#Imprimindo a lista\n",
        "print(listadomercado)"
      ],
      "execution_count": null,
      "outputs": [
        {
          "output_type": "stream",
          "text": [
            "['ovos, pão, banana, batata']\n"
          ],
          "name": "stdout"
        }
      ]
    },
    {
      "cell_type": "code",
      "metadata": {
        "id": "1gPUqGhiYByN"
      },
      "source": [
        "#Criando uma segunda lista com os itens separados (+ de uma string)\n",
        "listadomercado2 = ['ovos', 'pão', 'banana', 'batata']"
      ],
      "execution_count": null,
      "outputs": []
    },
    {
      "cell_type": "code",
      "metadata": {
        "colab": {
          "base_uri": "https://localhost:8080/"
        },
        "id": "976sxNfgYP-e",
        "outputId": "a410f170-0108-4d74-e78d-fa528cbdeb86"
      },
      "source": [
        "print(listadomercado2)"
      ],
      "execution_count": null,
      "outputs": [
        {
          "output_type": "stream",
          "text": [
            "['ovos', 'pão', 'banana', 'batata']\n"
          ],
          "name": "stdout"
        }
      ]
    },
    {
      "cell_type": "code",
      "metadata": {
        "colab": {
          "base_uri": "https://localhost:8080/",
          "height": 35
        },
        "id": "oikN3-Q2YS-e",
        "outputId": "2d84bd00-9289-4c73-f6f5-1864c81691fe"
      },
      "source": [
        "listadomercado[0]"
      ],
      "execution_count": null,
      "outputs": [
        {
          "output_type": "execute_result",
          "data": {
            "application/vnd.google.colaboratory.intrinsic+json": {
              "type": "string"
            },
            "text/plain": [
              "'ovos, pão, banana, batata'"
            ]
          },
          "metadata": {
            "tags": []
          },
          "execution_count": 93
        }
      ]
    },
    {
      "cell_type": "code",
      "metadata": {
        "colab": {
          "base_uri": "https://localhost:8080/",
          "height": 35
        },
        "id": "JQ0V_AoCYXaF",
        "outputId": "de7b3281-06c8-4ef9-ed25-feff4f9d1886"
      },
      "source": [
        "listadomercado2[0]"
      ],
      "execution_count": null,
      "outputs": [
        {
          "output_type": "execute_result",
          "data": {
            "application/vnd.google.colaboratory.intrinsic+json": {
              "type": "string"
            },
            "text/plain": [
              "'ovos'"
            ]
          },
          "metadata": {
            "tags": []
          },
          "execution_count": 94
        }
      ]
    },
    {
      "cell_type": "code",
      "metadata": {
        "id": "TlXoqeqEYezN"
      },
      "source": [
        "#Criando lista com strings e valores numéricos\n",
        "lista3 = [12, 100, 'universidade']"
      ],
      "execution_count": null,
      "outputs": []
    },
    {
      "cell_type": "code",
      "metadata": {
        "colab": {
          "base_uri": "https://localhost:8080/"
        },
        "id": "dMIhyLSHY1am",
        "outputId": "0f8b9d4b-7256-4d82-ed4c-70c107e387e1"
      },
      "source": [
        "print(lista3)"
      ],
      "execution_count": null,
      "outputs": [
        {
          "output_type": "stream",
          "text": [
            "[12, 100, 'universidade']\n"
          ],
          "name": "stdout"
        }
      ]
    },
    {
      "cell_type": "code",
      "metadata": {
        "id": "yD6R1QAOY3O2"
      },
      "source": [
        "#atribuindo cada valor da lista a uma variável\n",
        "item1 = lista3[0]\n",
        "item2 = lista3[1]\n",
        "item3 = lista3[2]"
      ],
      "execution_count": null,
      "outputs": []
    },
    {
      "cell_type": "code",
      "metadata": {
        "colab": {
          "base_uri": "https://localhost:8080/"
        },
        "id": "BmeCRpqdZDUm",
        "outputId": "4d4d9b86-7f13-4438-9a3f-1e009b7edb42"
      },
      "source": [
        "#Imprimindo as variáveis\n",
        "print(item1, item2, item3)"
      ],
      "execution_count": null,
      "outputs": [
        {
          "output_type": "stream",
          "text": [
            "12 100 universidade\n"
          ],
          "name": "stdout"
        }
      ]
    },
    {
      "cell_type": "markdown",
      "metadata": {
        "id": "qbzpommiNUJf"
      },
      "source": [
        "##Atualizando um item da list"
      ]
    },
    {
      "cell_type": "code",
      "metadata": {
        "colab": {
          "base_uri": "https://localhost:8080/",
          "height": 35
        },
        "id": "5jfa6cQZNuDr",
        "outputId": "be1f6b9b-be46-41d0-d49a-00b944299242"
      },
      "source": [
        "listadomercado2[2]"
      ],
      "execution_count": null,
      "outputs": [
        {
          "output_type": "execute_result",
          "data": {
            "application/vnd.google.colaboratory.intrinsic+json": {
              "type": "string"
            },
            "text/plain": [
              "'banana'"
            ]
          },
          "metadata": {
            "tags": []
          },
          "execution_count": 99
        }
      ]
    },
    {
      "cell_type": "code",
      "metadata": {
        "id": "fX5Vqg8uZTH9"
      },
      "source": [
        "listadomercado2[2] = 'pé de moleque'"
      ],
      "execution_count": null,
      "outputs": []
    },
    {
      "cell_type": "code",
      "metadata": {
        "colab": {
          "base_uri": "https://localhost:8080/"
        },
        "id": "3xvBsIlDNkHH",
        "outputId": "eae299fe-ddfc-4f2c-c3a3-c93c71466146"
      },
      "source": [
        "listadomercado2"
      ],
      "execution_count": null,
      "outputs": [
        {
          "output_type": "execute_result",
          "data": {
            "text/plain": [
              "['ovos', 'pão', 'pé de moleque', 'batata']"
            ]
          },
          "metadata": {
            "tags": []
          },
          "execution_count": 101
        }
      ]
    },
    {
      "cell_type": "markdown",
      "metadata": {
        "id": "n4W1dbRyN5Bk"
      },
      "source": [
        "Deletando um item da lista"
      ]
    },
    {
      "cell_type": "code",
      "metadata": {
        "colab": {
          "base_uri": "https://localhost:8080/",
          "height": 181
        },
        "id": "aY5H5FwkNmO4",
        "outputId": "6d9a1752-9bac-4d83-96d9-a76c713adab3"
      },
      "source": [
        "#não tem como deletar um item que não existe na lista\n",
        "del listadomercado2[5]"
      ],
      "execution_count": null,
      "outputs": [
        {
          "output_type": "error",
          "ename": "IndexError",
          "evalue": "ignored",
          "traceback": [
            "\u001b[0;31m---------------------------------------------------------------------------\u001b[0m",
            "\u001b[0;31mIndexError\u001b[0m                                Traceback (most recent call last)",
            "\u001b[0;32m<ipython-input-102-dfa90c2ba21b>\u001b[0m in \u001b[0;36m<module>\u001b[0;34m()\u001b[0m\n\u001b[1;32m      1\u001b[0m \u001b[0;31m#não tem como deletar um item que não existe na lista\u001b[0m\u001b[0;34m\u001b[0m\u001b[0;34m\u001b[0m\u001b[0;34m\u001b[0m\u001b[0m\n\u001b[0;32m----> 2\u001b[0;31m \u001b[0;32mdel\u001b[0m \u001b[0mlistadomercado2\u001b[0m\u001b[0;34m[\u001b[0m\u001b[0;36m5\u001b[0m\u001b[0;34m]\u001b[0m\u001b[0;34m\u001b[0m\u001b[0;34m\u001b[0m\u001b[0m\n\u001b[0m",
            "\u001b[0;31mIndexError\u001b[0m: list assignment index out of range"
          ]
        }
      ]
    },
    {
      "cell_type": "code",
      "metadata": {
        "id": "MLhamVkfODeg"
      },
      "source": [
        "del listadomercado2[2]"
      ],
      "execution_count": null,
      "outputs": []
    },
    {
      "cell_type": "code",
      "metadata": {
        "id": "O_E_TS-gOMd_"
      },
      "source": [
        "listadomercado2"
      ],
      "execution_count": null,
      "outputs": []
    },
    {
      "cell_type": "markdown",
      "metadata": {
        "id": "EB2M9D9DOfyb"
      },
      "source": [
        "## Listas aninhadas (listas de listas)\n",
        "são matrizes do Python"
      ]
    },
    {
      "cell_type": "code",
      "metadata": {
        "id": "rpVLB-TzON7w"
      },
      "source": [
        "#Criando uma lista de lista\n",
        "listas = [[1,2,3], [10,15,14],[10.1,8.7,2.3]]"
      ],
      "execution_count": null,
      "outputs": []
    },
    {
      "cell_type": "code",
      "metadata": {
        "id": "NTJtLBSCPWp3"
      },
      "source": [
        "#imprimindo a lista\n",
        "listas"
      ],
      "execution_count": null,
      "outputs": []
    },
    {
      "cell_type": "code",
      "metadata": {
        "id": "fIUr1JXjPZbZ"
      },
      "source": [
        "#atribuindo um item da lista a uma variável\n",
        "a = listas[0]"
      ],
      "execution_count": null,
      "outputs": []
    },
    {
      "cell_type": "code",
      "metadata": {
        "id": "zCW_iBdqPh1z"
      },
      "source": [
        "#imprimindo a variável\n",
        "a"
      ],
      "execution_count": null,
      "outputs": []
    },
    {
      "cell_type": "code",
      "metadata": {
        "id": "t9rndJA2Pi1g"
      },
      "source": [
        "#atribuindo um elemento da variável 'a' para a variável 'b'\n",
        "#como se fosse um fatiamento\n",
        "b = a[1]"
      ],
      "execution_count": null,
      "outputs": []
    },
    {
      "cell_type": "code",
      "metadata": {
        "id": "ZUeO8qVWPpwh"
      },
      "source": [
        "b"
      ],
      "execution_count": null,
      "outputs": []
    },
    {
      "cell_type": "code",
      "metadata": {
        "id": "TQ4nyQLoPqdo"
      },
      "source": [
        "#fatiamento da lista 'listas' posição 1\n",
        "list1 = listas[1]"
      ],
      "execution_count": null,
      "outputs": []
    },
    {
      "cell_type": "code",
      "metadata": {
        "id": "_qbjDewlQWaB"
      },
      "source": [
        "list1"
      ],
      "execution_count": null,
      "outputs": []
    },
    {
      "cell_type": "code",
      "metadata": {
        "id": "I8vOl9mtQXzg"
      },
      "source": [
        "#fatiamento da fatia da lista 'listas' posição 0\n",
        "valor_1_0 = list1[0]"
      ],
      "execution_count": null,
      "outputs": []
    },
    {
      "cell_type": "code",
      "metadata": {
        "id": "X3mw4S4zQftI"
      },
      "source": [
        "valor_1_0"
      ],
      "execution_count": null,
      "outputs": []
    },
    {
      "cell_type": "code",
      "metadata": {
        "id": "fD6j9uOcQhW5"
      },
      "source": [
        "valor_1_2 = list1[1]"
      ],
      "execution_count": null,
      "outputs": []
    },
    {
      "cell_type": "code",
      "metadata": {
        "id": "loE4neYMQmmR"
      },
      "source": [
        "valor_1_2"
      ],
      "execution_count": null,
      "outputs": []
    },
    {
      "cell_type": "code",
      "metadata": {
        "id": "i0f6962lQqsY"
      },
      "source": [
        "list2 = listas[2]"
      ],
      "execution_count": null,
      "outputs": []
    },
    {
      "cell_type": "code",
      "metadata": {
        "id": "HsTsDm0XQzd5"
      },
      "source": [
        "list2"
      ],
      "execution_count": null,
      "outputs": []
    },
    {
      "cell_type": "markdown",
      "metadata": {
        "id": "JVZXGBzsRQ8I"
      },
      "source": [
        "Operações com listas"
      ]
    },
    {
      "cell_type": "code",
      "metadata": {
        "id": "4dajaANrQ2SC"
      },
      "source": [
        "listas"
      ],
      "execution_count": null,
      "outputs": []
    },
    {
      "cell_type": "code",
      "metadata": {
        "id": "M9VeN6q6Rdgh"
      },
      "source": [
        "#Atribuindo a variável 'a' o segundo valor da primeira lista\n",
        "a = listas[0][1]"
      ],
      "execution_count": null,
      "outputs": []
    },
    {
      "cell_type": "code",
      "metadata": {
        "id": "H055K8zGRnDv"
      },
      "source": [
        "#Imprimindo a variável 'a'\n",
        "a"
      ],
      "execution_count": null,
      "outputs": []
    },
    {
      "cell_type": "code",
      "metadata": {
        "id": "JuMZX-5KRpYQ"
      },
      "source": [
        "#Nessa atribuição pode-se acrescentar operações matemáticas\n",
        "b = listas[0][1]+10"
      ],
      "execution_count": null,
      "outputs": []
    },
    {
      "cell_type": "code",
      "metadata": {
        "id": "tkxsiY6iR5vY"
      },
      "source": [
        "b"
      ],
      "execution_count": null,
      "outputs": []
    },
    {
      "cell_type": "markdown",
      "metadata": {
        "id": "orq2fcxGSDny"
      },
      "source": [
        "## Concatenando listas"
      ]
    },
    {
      "cell_type": "code",
      "metadata": {
        "id": "Wa37voh6R6r5"
      },
      "source": [
        "lista_s1 = [34, 35, 67]"
      ],
      "execution_count": null,
      "outputs": []
    },
    {
      "cell_type": "code",
      "metadata": {
        "id": "kg1-ETKBSPw4"
      },
      "source": [
        "lista_s2 = [1, 2, 4]"
      ],
      "execution_count": null,
      "outputs": []
    },
    {
      "cell_type": "code",
      "metadata": {
        "id": "iAXE8yc1SSVq"
      },
      "source": [
        "lista_total = lista_s1 + lista_s2"
      ],
      "execution_count": null,
      "outputs": []
    },
    {
      "cell_type": "code",
      "metadata": {
        "id": "3RJze3g1SXKx"
      },
      "source": [
        "lista_total"
      ],
      "execution_count": null,
      "outputs": []
    },
    {
      "cell_type": "markdown",
      "metadata": {
        "id": "cU40NFleSede"
      },
      "source": [
        "##Operador in\n",
        "verifica se existe um elemento dentro de uma lista"
      ]
    },
    {
      "cell_type": "code",
      "metadata": {
        "id": "hAYsBNO_SeVT"
      },
      "source": [
        "#Verificando se o valor 10 pertence à lista\n",
        "print(10 in lista3)"
      ],
      "execution_count": null,
      "outputs": []
    },
    {
      "cell_type": "code",
      "metadata": {
        "id": "I709UlCcSY9Z"
      },
      "source": [
        "print(12 in lista3)"
      ],
      "execution_count": null,
      "outputs": []
    },
    {
      "cell_type": "markdown",
      "metadata": {
        "id": "YjDZoLpZTHnS"
      },
      "source": [
        "##Funções Built-in"
      ]
    },
    {
      "cell_type": "code",
      "metadata": {
        "id": "tD-zMepHT_9A"
      },
      "source": [
        "lista_built = [2,4,78,-9.7]"
      ],
      "execution_count": null,
      "outputs": []
    },
    {
      "cell_type": "code",
      "metadata": {
        "id": "jnxHuuIiUL0B"
      },
      "source": [
        "lista_built"
      ],
      "execution_count": null,
      "outputs": []
    },
    {
      "cell_type": "code",
      "metadata": {
        "id": "neqRCdsqTAu5"
      },
      "source": [
        "#Função len()Para saber o comprimento da lista\n",
        "len(lista_built)"
      ],
      "execution_count": null,
      "outputs": []
    },
    {
      "cell_type": "code",
      "metadata": {
        "id": "agSZzO1cTRmR"
      },
      "source": [
        "#Função max()para retornar o valor máximo da lista\n",
        "max(lista_built)"
      ],
      "execution_count": null,
      "outputs": []
    },
    {
      "cell_type": "code",
      "metadata": {
        "id": "YjkPL-YaT03w"
      },
      "source": [
        "#Função min() para retornar o valor mínimo da lista\n",
        "min(lista_built)"
      ],
      "execution_count": null,
      "outputs": []
    },
    {
      "cell_type": "code",
      "metadata": {
        "id": "PQHvcmI8Vd-J"
      },
      "source": [
        "listadomercado.append('alface')"
      ],
      "execution_count": null,
      "outputs": []
    },
    {
      "cell_type": "code",
      "metadata": {
        "colab": {
          "base_uri": "https://localhost:8080/"
        },
        "id": "vCm09jPNVi6R",
        "outputId": "bf467ca1-2cf8-4d5d-bdc5-2ecab5186636"
      },
      "source": [
        "listadomercado"
      ],
      "execution_count": null,
      "outputs": [
        {
          "output_type": "execute_result",
          "data": {
            "text/plain": [
              "['ovos, pão, banana, batata', 'alface']"
            ]
          },
          "metadata": {
            "tags": []
          },
          "execution_count": 105
        }
      ]
    },
    {
      "cell_type": "code",
      "metadata": {
        "id": "SuVfdF-jVj52"
      },
      "source": [
        "#adicionando um item na lista\n",
        "listadomercado.append('alface')"
      ],
      "execution_count": null,
      "outputs": []
    },
    {
      "cell_type": "code",
      "metadata": {
        "colab": {
          "base_uri": "https://localhost:8080/"
        },
        "id": "p1uVN9_CVvjp",
        "outputId": "cb5496b6-9d0e-48d5-c9b8-493a4844e1bb"
      },
      "source": [
        "#como cada item é uma string, pode ser adicionado o mesmo mais de uma vez\n",
        "listadomercado"
      ],
      "execution_count": null,
      "outputs": [
        {
          "output_type": "execute_result",
          "data": {
            "text/plain": [
              "['ovos, pão, banana, batata', 'alface', 'alface']"
            ]
          },
          "metadata": {
            "tags": []
          },
          "execution_count": 107
        }
      ]
    },
    {
      "cell_type": "code",
      "metadata": {
        "colab": {
          "base_uri": "https://localhost:8080/"
        },
        "id": "39oTHFjcVwYx",
        "outputId": "cd188647-100f-4d70-ccb9-3a8970a1eb38"
      },
      "source": [
        "#conta quantas vezes um item aparece na lista\n",
        "listadomercado.count('alface')"
      ],
      "execution_count": null,
      "outputs": [
        {
          "output_type": "execute_result",
          "data": {
            "text/plain": [
              "2"
            ]
          },
          "metadata": {
            "tags": []
          },
          "execution_count": 109
        }
      ]
    },
    {
      "cell_type": "markdown",
      "metadata": {
        "id": "tcRXPeQ1WLFH"
      },
      "source": [
        "##Criando uma lista vazia"
      ]
    },
    {
      "cell_type": "code",
      "metadata": {
        "id": "xvRV_JdCVyg5"
      },
      "source": [
        "#criar uma lista vazia é interessante para ir alimentando ela ao \n",
        "#ao construir o algoritmo\n",
        "a =[]"
      ],
      "execution_count": null,
      "outputs": []
    },
    {
      "cell_type": "code",
      "metadata": {
        "colab": {
          "base_uri": "https://localhost:8080/"
        },
        "id": "mPFc4-JsWPNR",
        "outputId": "96717581-a3b7-44f9-93d7-91f9e2d17954"
      },
      "source": [
        "#imprimindo a lista estará vazia\n",
        "print(a)"
      ],
      "execution_count": null,
      "outputs": [
        {
          "output_type": "stream",
          "text": [
            "[]\n"
          ],
          "name": "stdout"
        }
      ]
    },
    {
      "cell_type": "code",
      "metadata": {
        "colab": {
          "base_uri": "https://localhost:8080/"
        },
        "id": "8caUDE75WbFJ",
        "outputId": "2b5673c4-0a8c-4fc1-b132-d0dab66f845a"
      },
      "source": [
        "#para saber o tipo\n",
        "type(a)"
      ],
      "execution_count": null,
      "outputs": [
        {
          "output_type": "execute_result",
          "data": {
            "text/plain": [
              "list"
            ]
          },
          "metadata": {
            "tags": []
          },
          "execution_count": 112
        }
      ]
    },
    {
      "cell_type": "code",
      "metadata": {
        "id": "2H3uhf76aIZb"
      },
      "source": [
        "#para alimentar a lista\n",
        "a.append(10)"
      ],
      "execution_count": null,
      "outputs": []
    },
    {
      "cell_type": "code",
      "metadata": {
        "colab": {
          "base_uri": "https://localhost:8080/"
        },
        "id": "H3T4CRunarVK",
        "outputId": "0ad2740a-096e-426b-bf45-9153d38c0d1a"
      },
      "source": [
        "a"
      ],
      "execution_count": null,
      "outputs": [
        {
          "output_type": "execute_result",
          "data": {
            "text/plain": [
              "[10]"
            ]
          },
          "metadata": {
            "tags": []
          },
          "execution_count": 114
        }
      ]
    },
    {
      "cell_type": "markdown",
      "metadata": {
        "id": "zkyUzvaGfZ62"
      },
      "source": [
        "##Copiando trem de uma lista pra outra"
      ]
    },
    {
      "cell_type": "code",
      "metadata": {
        "id": "EhgdAcCkavcy"
      },
      "source": [
        "old_list = [80, 6, 3.4, 'roi']"
      ],
      "execution_count": null,
      "outputs": []
    },
    {
      "cell_type": "code",
      "metadata": {
        "id": "5-REwQCJfkBv"
      },
      "source": [
        "new_list = []"
      ],
      "execution_count": null,
      "outputs": []
    },
    {
      "cell_type": "code",
      "metadata": {
        "id": "-2d680AvfnJL"
      },
      "source": [
        "#preenchendo uma lista nova com uma lista vazia\n",
        "#para cada item da lista antiga, faça um append na lista nova\n",
        "for item in old_list:\n",
        "  new_list.append(item)\n"
      ],
      "execution_count": null,
      "outputs": []
    },
    {
      "cell_type": "code",
      "metadata": {
        "colab": {
          "base_uri": "https://localhost:8080/"
        },
        "id": "7ig8rEftf9Ga",
        "outputId": "a8889b86-3131-4690-cf4c-5c79c6460ec6"
      },
      "source": [
        "new_list"
      ],
      "execution_count": null,
      "outputs": [
        {
          "output_type": "execute_result",
          "data": {
            "text/plain": [
              "[80, 6, 3.4, 'roi']"
            ]
          },
          "metadata": {
            "tags": []
          },
          "execution_count": 122
        }
      ]
    },
    {
      "cell_type": "code",
      "metadata": {
        "colab": {
          "base_uri": "https://localhost:8080/"
        },
        "id": "pWIySJRZgVQT",
        "outputId": "54e42530-9157-47a0-c009-9669c5c5a977"
      },
      "source": [
        "#extend aumenta a lista\n",
        "cidade = ['bh', 'ouro preto','viçosa']\n",
        "cidade.extend(['wageningen', 'amsterdã'])\n",
        "print(cidade)"
      ],
      "execution_count": null,
      "outputs": [
        {
          "output_type": "stream",
          "text": [
            "['bh', 'ouro preto', 'viçosa', 'wageningen', 'amsterdã']\n"
          ],
          "name": "stdout"
        }
      ]
    },
    {
      "cell_type": "code",
      "metadata": {
        "colab": {
          "base_uri": "https://localhost:8080/"
        },
        "id": "DcDTdSLHgsJ7",
        "outputId": "b3536a0a-b95b-4eae-bc94-b9c80b168772"
      },
      "source": [
        "#index (índice) procura por posição de algo na lista\n",
        "cidade.index('ouro preto')"
      ],
      "execution_count": null,
      "outputs": [
        {
          "output_type": "execute_result",
          "data": {
            "text/plain": [
              "1"
            ]
          },
          "metadata": {
            "tags": []
          },
          "execution_count": 126
        }
      ]
    },
    {
      "cell_type": "code",
      "metadata": {
        "id": "WuqfAjy8hPyD"
      },
      "source": [
        "#insert insere algo na lista em determinada posição\n",
        "cidade.insert(2,'aiuruoca')"
      ],
      "execution_count": null,
      "outputs": []
    },
    {
      "cell_type": "code",
      "metadata": {
        "colab": {
          "base_uri": "https://localhost:8080/"
        },
        "id": "cxc_QlTrho7z",
        "outputId": "ed16d878-901a-4eb9-ae67-9b5b63a431ce"
      },
      "source": [
        "cidade"
      ],
      "execution_count": null,
      "outputs": [
        {
          "output_type": "execute_result",
          "data": {
            "text/plain": [
              "['bh', 'ouro preto', 'aiuruoca', 'viçosa', 'wageningen', 'amsterdã']"
            ]
          },
          "metadata": {
            "tags": []
          },
          "execution_count": 129
        }
      ]
    },
    {
      "cell_type": "code",
      "metadata": {
        "id": "OsND3IsThsCL"
      },
      "source": [
        "#remover elemento da lista\n",
        "cidade.remove('aiuruoca')"
      ],
      "execution_count": null,
      "outputs": []
    },
    {
      "cell_type": "code",
      "metadata": {
        "id": "hANemOJRhzRz"
      },
      "source": [
        "#inverte a lista\n",
        "cidade.reverse()"
      ],
      "execution_count": null,
      "outputs": []
    },
    {
      "cell_type": "code",
      "metadata": {
        "colab": {
          "base_uri": "https://localhost:8080/"
        },
        "id": "BlZV-gOgh9lz",
        "outputId": "546a8e90-b354-42a9-8fb1-3c4e626d7f17"
      },
      "source": [
        "cidade"
      ],
      "execution_count": null,
      "outputs": [
        {
          "output_type": "execute_result",
          "data": {
            "text/plain": [
              "['amsterdã', 'wageningen', 'viçosa', 'ouro preto', 'bh']"
            ]
          },
          "metadata": {
            "tags": []
          },
          "execution_count": 135
        }
      ]
    },
    {
      "cell_type": "code",
      "metadata": {
        "id": "IJibdhVkh_9C"
      },
      "source": [
        "#ordenando a lista\n",
        "cidade.sort()"
      ],
      "execution_count": null,
      "outputs": []
    },
    {
      "cell_type": "code",
      "metadata": {
        "colab": {
          "base_uri": "https://localhost:8080/"
        },
        "id": "0FFOJ1rpiHsj",
        "outputId": "c913a764-206c-4f39-d755-449583f70333"
      },
      "source": [
        "cidade"
      ],
      "execution_count": null,
      "outputs": [
        {
          "output_type": "execute_result",
          "data": {
            "text/plain": [
              "['amsterdã', 'bh', 'ouro preto', 'viçosa', 'wageningen']"
            ]
          },
          "metadata": {
            "tags": []
          },
          "execution_count": 137
        }
      ]
    },
    {
      "cell_type": "code",
      "metadata": {
        "id": "45AM4JP2iIib"
      },
      "source": [
        ""
      ],
      "execution_count": null,
      "outputs": []
    }
  ]
}